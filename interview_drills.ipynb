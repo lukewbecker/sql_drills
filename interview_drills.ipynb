{
 "cells": [
  {
   "cell_type": "code",
   "execution_count": 1,
   "id": "edc6187d",
   "metadata": {},
   "outputs": [],
   "source": [
    "import pandas as pd\n",
    "import numpy as np\n",
    "import math"
   ]
  },
  {
   "cell_type": "code",
   "execution_count": 2,
   "id": "217c1081",
   "metadata": {},
   "outputs": [
    {
     "name": "stdout",
     "output_type": "stream",
     "text": [
      "Yes\n"
     ]
    }
   ],
   "source": [
    "# Python 3 program to find\n",
    "# the every segment size of\n",
    "# array have a search key x\n",
    " \n",
    "def findxinkindowSize(arr, x, k, n) :\n",
    " \n",
    "    i = 0\n",
    "    while i < n :\n",
    " \n",
    "        j = 0\n",
    "         \n",
    "        # Search x in segment\n",
    "        # starting from index i\n",
    "        while j < k :\n",
    "             \n",
    "            if arr[i + j] == x :\n",
    "                break\n",
    "             \n",
    "            j += 1\n",
    " \n",
    "        # If loop didn't break\n",
    "        if j == k :\n",
    "            return False\n",
    " \n",
    "        i += k\n",
    "         \n",
    "    # If n is a multiple of k    \n",
    "    if i == n :\n",
    "        return True\n",
    " \n",
    "    j = i - k\n",
    "     \n",
    "    # Check in last segment if n\n",
    "    # is not multiple of k.\n",
    "    while j < n :\n",
    "        if arr[j] == x :\n",
    "            break\n",
    " \n",
    "        j += 1\n",
    " \n",
    "    if j == n :\n",
    "        return False\n",
    " \n",
    "    return True\n",
    " \n",
    "# Driver Code\n",
    "if __name__ == \"__main__\" :\n",
    " \n",
    "    arr = [ 3, 5, 2, 4, 9, 3,\n",
    "            1, 7, 3, 11, 12, 3 ]\n",
    "    x, k = 3, 3\n",
    "    n = len(arr)\n",
    "     \n",
    "    if (findxinkindowSize(arr, x, k, n)) :\n",
    "        print(\"Yes\")\n",
    "    else :\n",
    "        print(\"No\")"
   ]
  },
  {
   "cell_type": "code",
   "execution_count": 4,
   "id": "73b27603",
   "metadata": {},
   "outputs": [
    {
     "name": "stdout",
     "output_type": "stream",
     "text": [
      "Yes\n"
     ]
    }
   ],
   "source": [
    "def isPalindrome(s):\n",
    "    return s == s[::-1]\n",
    " \n",
    " \n",
    "\n",
    "s = \"anna\"\n",
    "ans = isPalindrome(s)\n",
    " \n",
    "if ans:\n",
    "    print(\"Yes\")\n",
    "else:\n",
    "    print(\"No\")"
   ]
  },
  {
   "cell_type": "code",
   "execution_count": 5,
   "id": "467dccf3",
   "metadata": {},
   "outputs": [
    {
     "name": "stdout",
     "output_type": "stream",
     "text": [
      "Yes\n"
     ]
    }
   ],
   "source": [
    "s = 'anna'\n",
    "ans = isPalindrome(s)\n",
    "\n",
    "if ans:\n",
    "    print(\"Yes\")\n",
    "else:\n",
    "    print(\"No\")"
   ]
  },
  {
   "cell_type": "code",
   "execution_count": 6,
   "id": "1ec75863",
   "metadata": {},
   "outputs": [
    {
     "name": "stdout",
     "output_type": "stream",
     "text": [
      "anna\n"
     ]
    }
   ],
   "source": [
    "print(s)"
   ]
  },
  {
   "cell_type": "code",
   "execution_count": 46,
   "id": "59085526",
   "metadata": {},
   "outputs": [],
   "source": [
    "name = \"AntarcticA\""
   ]
  },
  {
   "cell_type": "code",
   "execution_count": 47,
   "id": "1d2c538a",
   "metadata": {},
   "outputs": [
    {
     "name": "stdout",
     "output_type": "stream",
     "text": [
      "AcitcratnA\n"
     ]
    }
   ],
   "source": [
    "print(name[::-1])"
   ]
  },
  {
   "cell_type": "code",
   "execution_count": 49,
   "id": "dd402eb8",
   "metadata": {},
   "outputs": [
    {
     "name": "stdout",
     "output_type": "stream",
     "text": [
      "No\n"
     ]
    }
   ],
   "source": [
    "ans2 = isPalindrome(name)\n",
    "\n",
    "if ans2:\n",
    "    print(\"Yes\")\n",
    "else:\n",
    "    print(\"No\")"
   ]
  },
  {
   "cell_type": "code",
   "execution_count": 50,
   "id": "dc91220c",
   "metadata": {},
   "outputs": [
    {
     "data": {
      "text/plain": [
       "False"
      ]
     },
     "execution_count": 50,
     "metadata": {},
     "output_type": "execute_result"
    }
   ],
   "source": [
    "ans2"
   ]
  },
  {
   "cell_type": "code",
   "execution_count": 57,
   "id": "1ab07a3f",
   "metadata": {},
   "outputs": [
    {
     "name": "stdout",
     "output_type": "stream",
     "text": [
      "[1, 2, 3, 4, 5, 6]\n",
      "Reversed list is\n",
      "[6, 5, 4, 3, 2, 1]\n"
     ]
    }
   ],
   "source": [
    "# Iterative python program to reverse an array\n",
    "\n",
    "# Function to reverse A[] from start to end\n",
    "def reverseList(A, start, end):\n",
    "\twhile start < end:\n",
    "\t\tA[start], A[end] = A[end], A[start]\n",
    "\t\tstart += 1\n",
    "\t\tend -= 1\n",
    "\n",
    "# Driver function to test above function\n",
    "A = [1, 2, 3, 4, 5, 6]\n",
    "n = len(A)-1\n",
    "print(A)\n",
    "reverseList(A, 0, n)\n",
    "print(\"Reversed list is\")\n",
    "print(A)\n",
    "# This program is contributed by Pratik Chhajer\n"
   ]
  },
  {
   "cell_type": "code",
   "execution_count": 55,
   "id": "8cee7982",
   "metadata": {},
   "outputs": [
    {
     "data": {
      "text/plain": [
       "6"
      ]
     },
     "execution_count": 55,
     "metadata": {},
     "output_type": "execute_result"
    }
   ],
   "source": [
    "len(A)"
   ]
  },
  {
   "cell_type": "code",
   "execution_count": 58,
   "id": "a39c27ec",
   "metadata": {},
   "outputs": [],
   "source": [
    "arr_test2 = {0, 23, 14, 12, 9}"
   ]
  },
  {
   "cell_type": "code",
   "execution_count": 59,
   "id": "64718471",
   "metadata": {},
   "outputs": [
    {
     "data": {
      "text/plain": [
       "set"
      ]
     },
     "execution_count": 59,
     "metadata": {},
     "output_type": "execute_result"
    }
   ],
   "source": [
    "type(arr_test2)"
   ]
  },
  {
   "cell_type": "code",
   "execution_count": 76,
   "id": "2eef5077",
   "metadata": {},
   "outputs": [
    {
     "name": "stdout",
     "output_type": "stream",
     "text": [
      "[0, 23, 14, 12, 9] <class 'list'>\n"
     ]
    }
   ],
   "source": [
    "arr_test = [0, 23, 14, 12, 9]\n",
    "\n",
    "print(arr_test, type(arr_test))"
   ]
  },
  {
   "cell_type": "code",
   "execution_count": 77,
   "id": "a97d10f2",
   "metadata": {},
   "outputs": [
    {
     "name": "stdout",
     "output_type": "stream",
     "text": [
      "[0, 9, 12, 14, 23]\n"
     ]
    }
   ],
   "source": [
    "arr_test.sort()\n",
    "print(arr_test)"
   ]
  },
  {
   "cell_type": "code",
   "execution_count": 8,
   "id": "5306890d",
   "metadata": {},
   "outputs": [],
   "source": [
    "# Create a * triangle \n",
    "\n",
    "def pyfunc(r):\n",
    "    for x in range(r):\n",
    "        print(' '*(r-x-1)+'*'*(2*x+1))"
   ]
  },
  {
   "cell_type": "code",
   "execution_count": 9,
   "id": "c07a9680",
   "metadata": {},
   "outputs": [
    {
     "name": "stdout",
     "output_type": "stream",
     "text": [
      "                          *\n",
      "                         ***\n",
      "                        *****\n",
      "                       *******\n",
      "                      *********\n",
      "                     ***********\n",
      "                    *************\n",
      "                   ***************\n",
      "                  *****************\n",
      "                 *******************\n",
      "                *********************\n",
      "               ***********************\n",
      "              *************************\n",
      "             ***************************\n",
      "            *****************************\n",
      "           *******************************\n",
      "          *********************************\n",
      "         ***********************************\n",
      "        *************************************\n",
      "       ***************************************\n",
      "      *****************************************\n",
      "     *******************************************\n",
      "    *********************************************\n",
      "   ***********************************************\n",
      "  *************************************************\n",
      " ***************************************************\n",
      "*****************************************************\n"
     ]
    }
   ],
   "source": [
    "pyfunc(27)"
   ]
  },
  {
   "cell_type": "code",
   "execution_count": 17,
   "id": "fe1c9537",
   "metadata": {},
   "outputs": [
    {
     "name": "stdout",
     "output_type": "stream",
     "text": [
      "    *****\n"
     ]
    }
   ],
   "source": [
    "print(' '*(7-2-1)+'*'*(2*2+1))"
   ]
  },
  {
   "cell_type": "code",
   "execution_count": 19,
   "id": "5ccec85d",
   "metadata": {},
   "outputs": [],
   "source": [
    "import numpy as np\n",
    "import pandas as pd"
   ]
  },
  {
   "cell_type": "code",
   "execution_count": 21,
   "id": "c1e234cc",
   "metadata": {},
   "outputs": [
    {
     "data": {
      "text/plain": [
       "array([ True,  True])"
      ]
     },
     "execution_count": 21,
     "metadata": {},
     "output_type": "execute_result"
    }
   ],
   "source": [
    "np.array([4, 5]) < 6"
   ]
  },
  {
   "cell_type": "code",
   "execution_count": 25,
   "id": "b54ed2d9",
   "metadata": {},
   "outputs": [],
   "source": [
    "list_1 = [10, 5, 1]\n",
    "tuple_1 = (10, 5, 1)"
   ]
  },
  {
   "cell_type": "code",
   "execution_count": 29,
   "id": "ba844ca6",
   "metadata": {},
   "outputs": [],
   "source": [
    "for x in list_1:\n",
    "    x + 5"
   ]
  },
  {
   "cell_type": "code",
   "execution_count": 30,
   "id": "5a1364d5",
   "metadata": {},
   "outputs": [
    {
     "data": {
      "text/plain": [
       "[10, 5, 1]"
      ]
     },
     "execution_count": 30,
     "metadata": {},
     "output_type": "execute_result"
    }
   ],
   "source": [
    "list_1"
   ]
  },
  {
   "cell_type": "code",
   "execution_count": 27,
   "id": "a5cbe6f1",
   "metadata": {},
   "outputs": [
    {
     "data": {
      "text/plain": [
       "10"
      ]
     },
     "execution_count": 27,
     "metadata": {},
     "output_type": "execute_result"
    }
   ],
   "source": [
    "tuple_1[0]"
   ]
  },
  {
   "cell_type": "code",
   "execution_count": null,
   "id": "d94b39f8",
   "metadata": {},
   "outputs": [],
   "source": []
  }
 ],
 "metadata": {
  "kernelspec": {
   "display_name": "Python 3",
   "language": "python",
   "name": "python3"
  },
  "language_info": {
   "codemirror_mode": {
    "name": "ipython",
    "version": 3
   },
   "file_extension": ".py",
   "mimetype": "text/x-python",
   "name": "python",
   "nbconvert_exporter": "python",
   "pygments_lexer": "ipython3",
   "version": "3.8.8"
  }
 },
 "nbformat": 4,
 "nbformat_minor": 5
}
