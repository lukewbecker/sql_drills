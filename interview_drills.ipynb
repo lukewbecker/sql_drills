{
 "cells": [
  {
   "cell_type": "code",
   "execution_count": 1,
   "id": "edc6187d",
   "metadata": {},
   "outputs": [],
   "source": [
    "import pandas as pd\n",
    "import numpy as np\n",
    "import math"
   ]
  },
  {
   "cell_type": "code",
   "execution_count": 2,
   "id": "217c1081",
   "metadata": {},
   "outputs": [
    {
     "name": "stdout",
     "output_type": "stream",
     "text": [
      "Yes\n"
     ]
    }
   ],
   "source": [
    "# Python 3 program to find\n",
    "# the every segment size of\n",
    "# array have a search key x\n",
    " \n",
    "def findxinkindowSize(arr, x, k, n) :\n",
    " \n",
    "    i = 0\n",
    "    while i < n :\n",
    " \n",
    "        j = 0\n",
    "         \n",
    "        # Search x in segment\n",
    "        # starting from index i\n",
    "        while j < k :\n",
    "             \n",
    "            if arr[i + j] == x :\n",
    "                break\n",
    "             \n",
    "            j += 1\n",
    " \n",
    "        # If loop didn't break\n",
    "        if j == k :\n",
    "            return False\n",
    " \n",
    "        i += k\n",
    "         \n",
    "    # If n is a multiple of k    \n",
    "    if i == n :\n",
    "        return True\n",
    " \n",
    "    j = i - k\n",
    "     \n",
    "    # Check in last segment if n\n",
    "    # is not multiple of k.\n",
    "    while j < n :\n",
    "        if arr[j] == x :\n",
    "            break\n",
    " \n",
    "        j += 1\n",
    " \n",
    "    if j == n :\n",
    "        return False\n",
    " \n",
    "    return True\n",
    " \n",
    "# Driver Code\n",
    "if __name__ == \"__main__\" :\n",
    " \n",
    "    arr = [ 3, 5, 2, 4, 9, 3,\n",
    "            1, 7, 3, 11, 12, 3 ]\n",
    "    x, k = 3, 3\n",
    "    n = len(arr)\n",
    "     \n",
    "    if (findxinkindowSize(arr, x, k, n)) :\n",
    "        print(\"Yes\")\n",
    "    else :\n",
    "        print(\"No\")"
   ]
  },
  {
   "cell_type": "code",
   "execution_count": 3,
   "id": "73b27603",
   "metadata": {},
   "outputs": [
    {
     "name": "stdout",
     "output_type": "stream",
     "text": [
      "Yes\n"
     ]
    }
   ],
   "source": [
    "def isPalindrome(s):\n",
    "    return s == s[::-1]\n",
    " \n",
    " \n",
    "\n",
    "s = \"anna\"\n",
    "ans = isPalindrome(s)\n",
    " \n",
    "if ans:\n",
    "    print(\"Yes\")\n",
    "else:\n",
    "    print(\"No\")"
   ]
  },
  {
   "cell_type": "code",
   "execution_count": 4,
   "id": "467dccf3",
   "metadata": {},
   "outputs": [
    {
     "name": "stdout",
     "output_type": "stream",
     "text": [
      "Yes\n"
     ]
    }
   ],
   "source": [
    "s = 'anna'\n",
    "ans = isPalindrome(s)\n",
    "\n",
    "if ans:\n",
    "    print(\"Yes\")\n",
    "else:\n",
    "    print(\"No\")"
   ]
  },
  {
   "cell_type": "code",
   "execution_count": 5,
   "id": "1ec75863",
   "metadata": {},
   "outputs": [
    {
     "name": "stdout",
     "output_type": "stream",
     "text": [
      "anna\n"
     ]
    }
   ],
   "source": [
    "print(s)"
   ]
  },
  {
   "cell_type": "code",
   "execution_count": 6,
   "id": "59085526",
   "metadata": {},
   "outputs": [],
   "source": [
    "name = \"AntarcticA\""
   ]
  },
  {
   "cell_type": "code",
   "execution_count": 7,
   "id": "1d2c538a",
   "metadata": {},
   "outputs": [
    {
     "name": "stdout",
     "output_type": "stream",
     "text": [
      "AcitcratnA\n"
     ]
    }
   ],
   "source": [
    "print(name[::-1])"
   ]
  },
  {
   "cell_type": "code",
   "execution_count": 8,
   "id": "dd402eb8",
   "metadata": {},
   "outputs": [
    {
     "name": "stdout",
     "output_type": "stream",
     "text": [
      "No\n"
     ]
    }
   ],
   "source": [
    "ans2 = isPalindrome(name)\n",
    "\n",
    "if ans2:\n",
    "    print(\"Yes\")\n",
    "else:\n",
    "    print(\"No\")"
   ]
  },
  {
   "cell_type": "code",
   "execution_count": 9,
   "id": "dc91220c",
   "metadata": {},
   "outputs": [
    {
     "data": {
      "text/plain": [
       "False"
      ]
     },
     "execution_count": 9,
     "metadata": {},
     "output_type": "execute_result"
    }
   ],
   "source": [
    "ans2"
   ]
  },
  {
   "cell_type": "code",
   "execution_count": 10,
   "id": "1ab07a3f",
   "metadata": {},
   "outputs": [
    {
     "name": "stdout",
     "output_type": "stream",
     "text": [
      "[1, 2, 3, 4, 5, 6]\n",
      "Reversed list is\n",
      "[6, 5, 4, 3, 2, 1]\n"
     ]
    }
   ],
   "source": [
    "# Iterative python program to reverse an array\n",
    "\n",
    "# Function to reverse A[] from start to end\n",
    "def reverseList(A, start, end):\n",
    "\twhile start < end:\n",
    "\t\tA[start], A[end] = A[end], A[start]\n",
    "\t\tstart += 1\n",
    "\t\tend -= 1\n",
    "\n",
    "# Driver function to test above function\n",
    "A = [1, 2, 3, 4, 5, 6]\n",
    "n = len(A)-1\n",
    "print(A)\n",
    "reverseList(A, 0, n)\n",
    "print(\"Reversed list is\")\n",
    "print(A)\n",
    "# This program is contributed by Pratik Chhajer\n"
   ]
  },
  {
   "cell_type": "code",
   "execution_count": 11,
   "id": "8cee7982",
   "metadata": {},
   "outputs": [
    {
     "data": {
      "text/plain": [
       "6"
      ]
     },
     "execution_count": 11,
     "metadata": {},
     "output_type": "execute_result"
    }
   ],
   "source": [
    "len(A)"
   ]
  },
  {
   "cell_type": "code",
   "execution_count": 12,
   "id": "a39c27ec",
   "metadata": {},
   "outputs": [],
   "source": [
    "arr_test2 = {0, 23, 14, 12, 9}"
   ]
  },
  {
   "cell_type": "code",
   "execution_count": 13,
   "id": "64718471",
   "metadata": {},
   "outputs": [
    {
     "data": {
      "text/plain": [
       "set"
      ]
     },
     "execution_count": 13,
     "metadata": {},
     "output_type": "execute_result"
    }
   ],
   "source": [
    "type(arr_test2)"
   ]
  },
  {
   "cell_type": "code",
   "execution_count": 14,
   "id": "2eef5077",
   "metadata": {},
   "outputs": [
    {
     "name": "stdout",
     "output_type": "stream",
     "text": [
      "[0, 23, 14, 12, 9] <class 'list'>\n"
     ]
    }
   ],
   "source": [
    "arr_test = [0, 23, 14, 12, 9]\n",
    "\n",
    "print(arr_test, type(arr_test))"
   ]
  },
  {
   "cell_type": "code",
   "execution_count": 15,
   "id": "a97d10f2",
   "metadata": {},
   "outputs": [
    {
     "name": "stdout",
     "output_type": "stream",
     "text": [
      "[0, 9, 12, 14, 23]\n"
     ]
    }
   ],
   "source": [
    "arr_test.sort()\n",
    "print(arr_test)"
   ]
  },
  {
   "cell_type": "code",
   "execution_count": 16,
   "id": "5306890d",
   "metadata": {},
   "outputs": [],
   "source": [
    "# Create a * triangle \n",
    "\n",
    "def pyfunc(r):\n",
    "    for x in range(r):\n",
    "        print(' '*(r-x-1)+'*'*(2*x+1))"
   ]
  },
  {
   "cell_type": "code",
   "execution_count": 17,
   "id": "c07a9680",
   "metadata": {},
   "outputs": [
    {
     "name": "stdout",
     "output_type": "stream",
     "text": [
      "                          *\n",
      "                         ***\n",
      "                        *****\n",
      "                       *******\n",
      "                      *********\n",
      "                     ***********\n",
      "                    *************\n",
      "                   ***************\n",
      "                  *****************\n",
      "                 *******************\n",
      "                *********************\n",
      "               ***********************\n",
      "              *************************\n",
      "             ***************************\n",
      "            *****************************\n",
      "           *******************************\n",
      "          *********************************\n",
      "         ***********************************\n",
      "        *************************************\n",
      "       ***************************************\n",
      "      *****************************************\n",
      "     *******************************************\n",
      "    *********************************************\n",
      "   ***********************************************\n",
      "  *************************************************\n",
      " ***************************************************\n",
      "*****************************************************\n"
     ]
    }
   ],
   "source": [
    "pyfunc(27)"
   ]
  },
  {
   "cell_type": "code",
   "execution_count": 18,
   "id": "fe1c9537",
   "metadata": {},
   "outputs": [
    {
     "name": "stdout",
     "output_type": "stream",
     "text": [
      "    *****\n"
     ]
    }
   ],
   "source": [
    "print(' '*(7-2-1)+'*'*(2*2+1))"
   ]
  },
  {
   "cell_type": "code",
   "execution_count": 19,
   "id": "5ccec85d",
   "metadata": {},
   "outputs": [],
   "source": [
    "import numpy as np\n",
    "import pandas as pd"
   ]
  },
  {
   "cell_type": "code",
   "execution_count": 20,
   "id": "c1e234cc",
   "metadata": {},
   "outputs": [
    {
     "data": {
      "text/plain": [
       "array([ True,  True])"
      ]
     },
     "execution_count": 20,
     "metadata": {},
     "output_type": "execute_result"
    }
   ],
   "source": [
    "np.array([4, 5]) < 6"
   ]
  },
  {
   "cell_type": "code",
   "execution_count": 21,
   "id": "b54ed2d9",
   "metadata": {},
   "outputs": [],
   "source": [
    "list_1 = [10, 5, 1]\n",
    "tuple_1 = (10, 5, 1)"
   ]
  },
  {
   "cell_type": "code",
   "execution_count": 22,
   "id": "ba844ca6",
   "metadata": {},
   "outputs": [],
   "source": [
    "for x in list_1:\n",
    "    x + 5"
   ]
  },
  {
   "cell_type": "code",
   "execution_count": 23,
   "id": "5a1364d5",
   "metadata": {},
   "outputs": [
    {
     "data": {
      "text/plain": [
       "[10, 5, 1]"
      ]
     },
     "execution_count": 23,
     "metadata": {},
     "output_type": "execute_result"
    }
   ],
   "source": [
    "list_1"
   ]
  },
  {
   "cell_type": "code",
   "execution_count": 24,
   "id": "a5cbe6f1",
   "metadata": {},
   "outputs": [
    {
     "data": {
      "text/plain": [
       "10"
      ]
     },
     "execution_count": 24,
     "metadata": {},
     "output_type": "execute_result"
    }
   ],
   "source": [
    "tuple_1[0]"
   ]
  },
  {
   "cell_type": "code",
   "execution_count": 25,
   "id": "d94b39f8",
   "metadata": {},
   "outputs": [
    {
     "name": "stdout",
     "output_type": "stream",
     "text": [
      "1\n",
      "2\n",
      "3\n",
      "4\n",
      "5\n",
      "6\n",
      "7\n",
      "8\n",
      "9\n",
      "10\n"
     ]
    }
   ],
   "source": [
    "for number in range(1, 11):\n",
    "    print(number)"
   ]
  },
  {
   "cell_type": "code",
   "execution_count": 26,
   "id": "bc7b789e",
   "metadata": {},
   "outputs": [],
   "source": [
    "# list comprehension:\n",
    "\n",
    "my_list = [i for i in range(1, 10)]"
   ]
  },
  {
   "cell_type": "code",
   "execution_count": 27,
   "id": "88cb3be9",
   "metadata": {},
   "outputs": [
    {
     "data": {
      "text/plain": [
       "[1, 2, 3, 4, 5, 6, 7, 8, 9]"
      ]
     },
     "execution_count": 27,
     "metadata": {},
     "output_type": "execute_result"
    }
   ],
   "source": [
    "my_list"
   ]
  },
  {
   "cell_type": "code",
   "execution_count": 28,
   "id": "d36c180a",
   "metadata": {},
   "outputs": [
    {
     "data": {
      "text/plain": [
       "'\\nThis is an example of a docstring.\\n'"
      ]
     },
     "execution_count": 28,
     "metadata": {},
     "output_type": "execute_result"
    }
   ],
   "source": [
    "# Docstring:\n",
    "\n",
    "\"\"\"\n",
    "This is an example of a docstring.\n",
    "\"\"\""
   ]
  },
  {
   "cell_type": "code",
   "execution_count": 29,
   "id": "2c4a7446",
   "metadata": {},
   "outputs": [
    {
     "name": "stdout",
     "output_type": "stream",
     "text": [
      "1\n",
      "2\n",
      "3\n",
      "4\n",
      "5\n",
      "6\n",
      "7\n",
      "8\n",
      "9\n"
     ]
    }
   ],
   "source": [
    "for i in range(1, 10):\n",
    "    print(i)"
   ]
  },
  {
   "cell_type": "code",
   "execution_count": 30,
   "id": "d3aae7e7",
   "metadata": {},
   "outputs": [
    {
     "data": {
      "text/plain": [
       "4"
      ]
     },
     "execution_count": 30,
     "metadata": {},
     "output_type": "execute_result"
    }
   ],
   "source": [
    "# Simple function:\n",
    "\n",
    "def simple_function(a):\n",
    "    return a * 2\n",
    "\n",
    "simple_function(2)"
   ]
  },
  {
   "cell_type": "code",
   "execution_count": 31,
   "id": "8719e069",
   "metadata": {},
   "outputs": [
    {
     "name": "stdout",
     "output_type": "stream",
     "text": [
      "python practice has 100 items\n",
      "r practice has 30 items\n",
      "sql practice has 10 items\n"
     ]
    }
   ],
   "source": [
    "practice = {'python': 100, \"r\": 30, \"sql\": 10}\n",
    "for key, value in practice.items():\n",
    "  print(key + \" practice has \" + str(value) + \" items\")"
   ]
  },
  {
   "cell_type": "code",
   "execution_count": 32,
   "id": "5f034b20",
   "metadata": {},
   "outputs": [
    {
     "name": "stdout",
     "output_type": "stream",
     "text": [
      "2 is a prime number\n",
      "3 is a prime number\n",
      "4 is not a prime number\n",
      "5 is a prime number\n",
      "6 is not a prime number\n",
      "6 is not a prime number\n",
      "7 is a prime number\n",
      "8 is not a prime number\n",
      "8 is not a prime number\n",
      "9 is not a prime number\n",
      "10 is not a prime number\n",
      "10 is not a prime number\n",
      "11 is a prime number\n",
      "12 is not a prime number\n",
      "12 is not a prime number\n",
      "12 is not a prime number\n",
      "12 is not a prime number\n",
      "13 is a prime number\n",
      "14 is not a prime number\n",
      "14 is not a prime number\n",
      "15 is not a prime number\n",
      "15 is not a prime number\n",
      "16 is not a prime number\n",
      "16 is not a prime number\n",
      "16 is not a prime number\n",
      "17 is a prime number\n",
      "18 is not a prime number\n",
      "18 is not a prime number\n",
      "18 is not a prime number\n",
      "18 is not a prime number\n",
      "19 is a prime number\n",
      "20 is not a prime number\n",
      "20 is not a prime number\n",
      "20 is not a prime number\n",
      "20 is not a prime number\n",
      "21 is not a prime number\n",
      "21 is not a prime number\n",
      "22 is not a prime number\n",
      "22 is not a prime number\n",
      "23 is a prime number\n",
      "24 is not a prime number\n",
      "24 is not a prime number\n",
      "24 is not a prime number\n",
      "24 is not a prime number\n",
      "24 is not a prime number\n",
      "24 is not a prime number\n",
      "25 is not a prime number\n",
      "26 is not a prime number\n",
      "26 is not a prime number\n",
      "27 is not a prime number\n",
      "27 is not a prime number\n",
      "28 is not a prime number\n",
      "28 is not a prime number\n",
      "28 is not a prime number\n",
      "28 is not a prime number\n",
      "29 is a prime number\n",
      "30 is not a prime number\n",
      "30 is not a prime number\n",
      "30 is not a prime number\n",
      "30 is not a prime number\n",
      "30 is not a prime number\n",
      "30 is not a prime number\n",
      "31 is a prime number\n",
      "32 is not a prime number\n",
      "32 is not a prime number\n",
      "32 is not a prime number\n",
      "32 is not a prime number\n",
      "33 is not a prime number\n",
      "33 is not a prime number\n",
      "34 is not a prime number\n",
      "34 is not a prime number\n",
      "35 is not a prime number\n",
      "35 is not a prime number\n",
      "36 is not a prime number\n",
      "36 is not a prime number\n",
      "36 is not a prime number\n",
      "36 is not a prime number\n",
      "36 is not a prime number\n",
      "36 is not a prime number\n",
      "36 is not a prime number\n",
      "37 is a prime number\n",
      "38 is not a prime number\n",
      "38 is not a prime number\n",
      "39 is not a prime number\n",
      "39 is not a prime number\n",
      "40 is not a prime number\n",
      "40 is not a prime number\n",
      "40 is not a prime number\n",
      "40 is not a prime number\n",
      "40 is not a prime number\n",
      "40 is not a prime number\n",
      "41 is a prime number\n",
      "42 is not a prime number\n",
      "42 is not a prime number\n",
      "42 is not a prime number\n",
      "42 is not a prime number\n",
      "42 is not a prime number\n",
      "42 is not a prime number\n",
      "43 is a prime number\n",
      "44 is not a prime number\n",
      "44 is not a prime number\n",
      "44 is not a prime number\n",
      "44 is not a prime number\n",
      "45 is not a prime number\n",
      "45 is not a prime number\n",
      "45 is not a prime number\n",
      "45 is not a prime number\n",
      "46 is not a prime number\n",
      "46 is not a prime number\n",
      "47 is a prime number\n",
      "48 is not a prime number\n",
      "48 is not a prime number\n",
      "48 is not a prime number\n",
      "48 is not a prime number\n",
      "48 is not a prime number\n",
      "48 is not a prime number\n",
      "48 is not a prime number\n",
      "48 is not a prime number\n",
      "49 is not a prime number\n",
      "50 is not a prime number\n",
      "50 is not a prime number\n",
      "50 is not a prime number\n",
      "50 is not a prime number\n",
      "51 is not a prime number\n",
      "51 is not a prime number\n",
      "52 is not a prime number\n",
      "52 is not a prime number\n",
      "52 is not a prime number\n",
      "52 is not a prime number\n",
      "53 is a prime number\n",
      "54 is not a prime number\n",
      "54 is not a prime number\n",
      "54 is not a prime number\n",
      "54 is not a prime number\n",
      "54 is not a prime number\n",
      "54 is not a prime number\n",
      "55 is not a prime number\n",
      "55 is not a prime number\n",
      "56 is not a prime number\n",
      "56 is not a prime number\n",
      "56 is not a prime number\n",
      "56 is not a prime number\n",
      "56 is not a prime number\n",
      "56 is not a prime number\n"
     ]
    }
   ],
   "source": [
    "primes_test = []\n",
    "\n",
    "for possiblePrime in range(2, 57):\n",
    "    \n",
    "    isPrime = True\n",
    "    for num in range(2, possiblePrime):\n",
    "        if possiblePrime % num == 0:\n",
    "            isPrime = False\n",
    "            print(f\"{possiblePrime} is not a prime number\")\n",
    "    if isPrime:\n",
    "        primes_test.append(possiblePrime)\n",
    "        print(f\"{possiblePrime} is a prime number\")"
   ]
  },
  {
   "cell_type": "code",
   "execution_count": 33,
   "id": "2b72b359",
   "metadata": {},
   "outputs": [
    {
     "data": {
      "text/plain": [
       "[2, 3, 5, 7, 11, 13, 17, 19, 23, 29, 31, 37, 41, 43, 47, 53]"
      ]
     },
     "execution_count": 33,
     "metadata": {},
     "output_type": "execute_result"
    }
   ],
   "source": [
    "primes_test"
   ]
  },
  {
   "cell_type": "code",
   "execution_count": 34,
   "id": "00136e3c",
   "metadata": {},
   "outputs": [
    {
     "name": "stdout",
     "output_type": "stream",
     "text": [
      "anna\n",
      "is a palindrome\n"
     ]
    }
   ],
   "source": [
    "# write a function in Python to check if a word is a palindrome:\n",
    "\n",
    "a = input(str())\n",
    "\n",
    "b = a [::-1]\n",
    "\n",
    "if a == b:\n",
    "    print(\"is a palindrome\")\n",
    "else:\n",
    "    print(\"not a palindrome\")"
   ]
  },
  {
   "cell_type": "code",
   "execution_count": 35,
   "id": "a3f68e53",
   "metadata": {},
   "outputs": [],
   "source": [
    "# Write a function in Python that checks of a word is an anagram:\n",
    "\n",
    "def check_words(s1, s2):\n",
    "    \n",
    "    if(sorted(s1) == sorted(s2)):\n",
    "        print(\"The strings are anagrams\")\n",
    "    else:\n",
    "        print(\"the strings are not anagrams\")\n",
    "        "
   ]
  },
  {
   "cell_type": "code",
   "execution_count": 36,
   "id": "57bb95b7",
   "metadata": {},
   "outputs": [
    {
     "name": "stdout",
     "output_type": "stream",
     "text": [
      "The strings are anagrams\n"
     ]
    }
   ],
   "source": [
    "check_words(\"save\", 'vase')"
   ]
  },
  {
   "cell_type": "code",
   "execution_count": 37,
   "id": "95afb422",
   "metadata": {},
   "outputs": [],
   "source": [
    "fruit = 'banana'\n",
    "vowels = ['a', 'e', 'i', 'o', 'u']"
   ]
  },
  {
   "cell_type": "code",
   "execution_count": 38,
   "id": "4c75c2d8",
   "metadata": {},
   "outputs": [
    {
     "name": "stdout",
     "output_type": "stream",
     "text": [
      "No, there are no vowels\n",
      "Yes there is a vowel\n",
      "No, there are no vowels\n",
      "Yes there is a vowel\n",
      "No, there are no vowels\n",
      "Yes there is a vowel\n"
     ]
    }
   ],
   "source": [
    "for i in fruit:\n",
    "    if i in vowels:\n",
    "        print(\"Yes there is a vowel\")\n",
    "    else:\n",
    "        print(\"No, there are no vowels\")"
   ]
  },
  {
   "cell_type": "code",
   "execution_count": 39,
   "id": "f91fbde8",
   "metadata": {},
   "outputs": [
    {
     "name": "stdout",
     "output_type": "stream",
     "text": [
      "True\n"
     ]
    }
   ],
   "source": [
    "if any(char in vowels for char in fruit):\n",
    "    print(True)\n",
    "else:\n",
    "    print(False)"
   ]
  },
  {
   "cell_type": "code",
   "execution_count": 40,
   "id": "cdce0ff0",
   "metadata": {},
   "outputs": [],
   "source": [
    "numbers = range(1, 10)"
   ]
  },
  {
   "cell_type": "code",
   "execution_count": 41,
   "id": "6a5fee8e",
   "metadata": {},
   "outputs": [
    {
     "data": {
      "text/plain": [
       "range(1, 10)"
      ]
     },
     "execution_count": 41,
     "metadata": {},
     "output_type": "execute_result"
    }
   ],
   "source": [
    "range(1, 10)"
   ]
  },
  {
   "cell_type": "code",
   "execution_count": 42,
   "id": "b178decb",
   "metadata": {},
   "outputs": [],
   "source": [
    "fruits = [\"mango\", \"banana\", \"guava\", \"kiwi\", \"strawberry\"]\n",
    "\n",
    "fruits.append('tomato')"
   ]
  },
  {
   "cell_type": "code",
   "execution_count": 43,
   "id": "a53b2c67",
   "metadata": {},
   "outputs": [
    {
     "data": {
      "text/plain": [
       "['mango', 'banana', 'guava', 'kiwi', 'strawberry', 'tomato']"
      ]
     },
     "execution_count": 43,
     "metadata": {},
     "output_type": "execute_result"
    }
   ],
   "source": [
    "fruits"
   ]
  },
  {
   "cell_type": "code",
   "execution_count": 44,
   "id": "99d47f4b",
   "metadata": {},
   "outputs": [
    {
     "data": {
      "text/plain": [
       "['tomato', 'strawberry', 'mango', 'kiwi', 'guava', 'banana']"
      ]
     },
     "execution_count": 44,
     "metadata": {},
     "output_type": "execute_result"
    }
   ],
   "source": [
    "fruits.sort(reverse = True)\n",
    "fruits"
   ]
  },
  {
   "cell_type": "code",
   "execution_count": 45,
   "id": "cbb97bbb",
   "metadata": {},
   "outputs": [
    {
     "data": {
      "text/plain": [
       "['tomato', 'strawberry', 'mango', 'kiwi', 'guava', 'banana']"
      ]
     },
     "execution_count": 45,
     "metadata": {},
     "output_type": "execute_result"
    }
   ],
   "source": [
    "fruits"
   ]
  },
  {
   "cell_type": "code",
   "execution_count": 46,
   "id": "815d518a",
   "metadata": {},
   "outputs": [],
   "source": [
    "def is_positive(number):\n",
    "    if number % 2 == 0:\n",
    "        return True\n",
    "    else:\n",
    "        return False"
   ]
  },
  {
   "cell_type": "code",
   "execution_count": 47,
   "id": "5e40ce62",
   "metadata": {},
   "outputs": [
    {
     "name": "stdout",
     "output_type": "stream",
     "text": [
      "15\n"
     ]
    }
   ],
   "source": [
    "# Function to get sum of digits  \n",
    "def getSum(n): \n",
    "     \n",
    "    sum = 0\n",
    "    for digit in str(n):  \n",
    "        sum += int(digit)       \n",
    "    return sum\n",
    "    \n",
    "n = 12345\n",
    "print(getSum(n))"
   ]
  },
  {
   "cell_type": "code",
   "execution_count": 48,
   "id": "2e8c61c7",
   "metadata": {},
   "outputs": [
    {
     "data": {
      "text/plain": [
       "True"
      ]
     },
     "execution_count": 48,
     "metadata": {},
     "output_type": "execute_result"
    }
   ],
   "source": [
    "getSum(12345) % 3 == 0"
   ]
  },
  {
   "cell_type": "code",
   "execution_count": 49,
   "id": "39e4ad58",
   "metadata": {},
   "outputs": [
    {
     "data": {
      "text/plain": [
       "1.0"
      ]
     },
     "execution_count": 49,
     "metadata": {},
     "output_type": "execute_result"
    }
   ],
   "source": [
    "3 / 3"
   ]
  },
  {
   "cell_type": "code",
   "execution_count": 53,
   "id": "eaf4f199",
   "metadata": {},
   "outputs": [],
   "source": [
    "def is_multiple_of_three(number):\n",
    "    def getSum(number):\n",
    "        sum_test = 0\n",
    "        for n in str(number):\n",
    "            sum_test += int(n)\n",
    "        return sum_test\n",
    "    if getSum(number) / 3 == 1:\n",
    "        return True\n",
    "    else:\n",
    "        return False"
   ]
  },
  {
   "cell_type": "code",
   "execution_count": 54,
   "id": "3b05d834",
   "metadata": {},
   "outputs": [],
   "source": [
    "number = 12345"
   ]
  },
  {
   "cell_type": "code",
   "execution_count": 55,
   "id": "795e8894",
   "metadata": {},
   "outputs": [
    {
     "data": {
      "text/plain": [
       "False"
      ]
     },
     "execution_count": 55,
     "metadata": {},
     "output_type": "execute_result"
    }
   ],
   "source": [
    "is_multiple_of_three(12345)"
   ]
  },
  {
   "cell_type": "code",
   "execution_count": 56,
   "id": "b6086a14",
   "metadata": {},
   "outputs": [
    {
     "data": {
      "text/plain": [
       "5.0"
      ]
     },
     "execution_count": 56,
     "metadata": {},
     "output_type": "execute_result"
    }
   ],
   "source": [
    "15 / 3"
   ]
  },
  {
   "cell_type": "code",
   "execution_count": 57,
   "id": "176614d5",
   "metadata": {},
   "outputs": [
    {
     "data": {
      "text/plain": [
       "4.666666666666667"
      ]
     },
     "execution_count": 57,
     "metadata": {},
     "output_type": "execute_result"
    }
   ],
   "source": [
    "14 / 3"
   ]
  },
  {
   "cell_type": "code",
   "execution_count": null,
   "id": "aa2e2fb1",
   "metadata": {},
   "outputs": [],
   "source": []
  }
 ],
 "metadata": {
  "kernelspec": {
   "display_name": "Python 3",
   "language": "python",
   "name": "python3"
  },
  "language_info": {
   "codemirror_mode": {
    "name": "ipython",
    "version": 3
   },
   "file_extension": ".py",
   "mimetype": "text/x-python",
   "name": "python",
   "nbconvert_exporter": "python",
   "pygments_lexer": "ipython3",
   "version": "3.8.8"
  }
 },
 "nbformat": 4,
 "nbformat_minor": 5
}
